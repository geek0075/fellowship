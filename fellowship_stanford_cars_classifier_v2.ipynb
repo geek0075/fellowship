{
  "nbformat": 4,
  "nbformat_minor": 0,
  "metadata": {
    "colab": {
      "name": "fellowship_stanford_cars_classifier_v2.ipynb",
      "provenance": [],
      "collapsed_sections": [],
      "include_colab_link": true
    },
    "kernelspec": {
      "name": "python3",
      "display_name": "Python 3"
    },
    "language_info": {
      "name": "python"
    },
    "accelerator": "GPU",
    "widgets": {
      "application/vnd.jupyter.widget-state+json": {
        "04c3e6d4f905402e847473659cd43d56": {
          "model_module": "@jupyter-widgets/controls",
          "model_name": "HBoxModel",
          "model_module_version": "1.5.0",
          "state": {
            "_dom_classes": [],
            "_model_module": "@jupyter-widgets/controls",
            "_model_module_version": "1.5.0",
            "_model_name": "HBoxModel",
            "_view_count": null,
            "_view_module": "@jupyter-widgets/controls",
            "_view_module_version": "1.5.0",
            "_view_name": "HBoxView",
            "box_style": "",
            "children": [
              "IPY_MODEL_22930f9960f74951b3fc9ae277e8020a",
              "IPY_MODEL_473c4b196c9a4d85861b30b0637a4dc6",
              "IPY_MODEL_f9c63e11d1434d52a938f905cd5ea245"
            ],
            "layout": "IPY_MODEL_05426c4839e842db957f34584d5fe240"
          }
        },
        "22930f9960f74951b3fc9ae277e8020a": {
          "model_module": "@jupyter-widgets/controls",
          "model_name": "HTMLModel",
          "model_module_version": "1.5.0",
          "state": {
            "_dom_classes": [],
            "_model_module": "@jupyter-widgets/controls",
            "_model_module_version": "1.5.0",
            "_model_name": "HTMLModel",
            "_view_count": null,
            "_view_module": "@jupyter-widgets/controls",
            "_view_module_version": "1.5.0",
            "_view_name": "HTMLView",
            "description": "",
            "description_tooltip": null,
            "layout": "IPY_MODEL_8faddeca95c841c79585dafa67f95f12",
            "placeholder": "​",
            "style": "IPY_MODEL_bad8a412f90c47ab8bade9bcdc68d75e",
            "value": "100%"
          }
        },
        "473c4b196c9a4d85861b30b0637a4dc6": {
          "model_module": "@jupyter-widgets/controls",
          "model_name": "FloatProgressModel",
          "model_module_version": "1.5.0",
          "state": {
            "_dom_classes": [],
            "_model_module": "@jupyter-widgets/controls",
            "_model_module_version": "1.5.0",
            "_model_name": "FloatProgressModel",
            "_view_count": null,
            "_view_module": "@jupyter-widgets/controls",
            "_view_module_version": "1.5.0",
            "_view_name": "ProgressView",
            "bar_style": "success",
            "description": "",
            "description_tooltip": null,
            "layout": "IPY_MODEL_b10234904fe94615b57449b3cd5ebbf2",
            "max": 87319819,
            "min": 0,
            "orientation": "horizontal",
            "style": "IPY_MODEL_c1c345f2c87a44f48739c9ccdf987876",
            "value": 87319819
          }
        },
        "f9c63e11d1434d52a938f905cd5ea245": {
          "model_module": "@jupyter-widgets/controls",
          "model_name": "HTMLModel",
          "model_module_version": "1.5.0",
          "state": {
            "_dom_classes": [],
            "_model_module": "@jupyter-widgets/controls",
            "_model_module_version": "1.5.0",
            "_model_name": "HTMLModel",
            "_view_count": null,
            "_view_module": "@jupyter-widgets/controls",
            "_view_module_version": "1.5.0",
            "_view_name": "HTMLView",
            "description": "",
            "description_tooltip": null,
            "layout": "IPY_MODEL_d4ae9e0ffdff46ffa667d12e73388931",
            "placeholder": "​",
            "style": "IPY_MODEL_e92e09e85cb9496394d4f72ea9b2106e",
            "value": " 83.3M/83.3M [00:00&lt;00:00, 162MB/s]"
          }
        },
        "05426c4839e842db957f34584d5fe240": {
          "model_module": "@jupyter-widgets/base",
          "model_name": "LayoutModel",
          "model_module_version": "1.2.0",
          "state": {
            "_model_module": "@jupyter-widgets/base",
            "_model_module_version": "1.2.0",
            "_model_name": "LayoutModel",
            "_view_count": null,
            "_view_module": "@jupyter-widgets/base",
            "_view_module_version": "1.2.0",
            "_view_name": "LayoutView",
            "align_content": null,
            "align_items": null,
            "align_self": null,
            "border": null,
            "bottom": null,
            "display": null,
            "flex": null,
            "flex_flow": null,
            "grid_area": null,
            "grid_auto_columns": null,
            "grid_auto_flow": null,
            "grid_auto_rows": null,
            "grid_column": null,
            "grid_gap": null,
            "grid_row": null,
            "grid_template_areas": null,
            "grid_template_columns": null,
            "grid_template_rows": null,
            "height": null,
            "justify_content": null,
            "justify_items": null,
            "left": null,
            "margin": null,
            "max_height": null,
            "max_width": null,
            "min_height": null,
            "min_width": null,
            "object_fit": null,
            "object_position": null,
            "order": null,
            "overflow": null,
            "overflow_x": null,
            "overflow_y": null,
            "padding": null,
            "right": null,
            "top": null,
            "visibility": null,
            "width": null
          }
        },
        "8faddeca95c841c79585dafa67f95f12": {
          "model_module": "@jupyter-widgets/base",
          "model_name": "LayoutModel",
          "model_module_version": "1.2.0",
          "state": {
            "_model_module": "@jupyter-widgets/base",
            "_model_module_version": "1.2.0",
            "_model_name": "LayoutModel",
            "_view_count": null,
            "_view_module": "@jupyter-widgets/base",
            "_view_module_version": "1.2.0",
            "_view_name": "LayoutView",
            "align_content": null,
            "align_items": null,
            "align_self": null,
            "border": null,
            "bottom": null,
            "display": null,
            "flex": null,
            "flex_flow": null,
            "grid_area": null,
            "grid_auto_columns": null,
            "grid_auto_flow": null,
            "grid_auto_rows": null,
            "grid_column": null,
            "grid_gap": null,
            "grid_row": null,
            "grid_template_areas": null,
            "grid_template_columns": null,
            "grid_template_rows": null,
            "height": null,
            "justify_content": null,
            "justify_items": null,
            "left": null,
            "margin": null,
            "max_height": null,
            "max_width": null,
            "min_height": null,
            "min_width": null,
            "object_fit": null,
            "object_position": null,
            "order": null,
            "overflow": null,
            "overflow_x": null,
            "overflow_y": null,
            "padding": null,
            "right": null,
            "top": null,
            "visibility": null,
            "width": null
          }
        },
        "bad8a412f90c47ab8bade9bcdc68d75e": {
          "model_module": "@jupyter-widgets/controls",
          "model_name": "DescriptionStyleModel",
          "model_module_version": "1.5.0",
          "state": {
            "_model_module": "@jupyter-widgets/controls",
            "_model_module_version": "1.5.0",
            "_model_name": "DescriptionStyleModel",
            "_view_count": null,
            "_view_module": "@jupyter-widgets/base",
            "_view_module_version": "1.2.0",
            "_view_name": "StyleView",
            "description_width": ""
          }
        },
        "b10234904fe94615b57449b3cd5ebbf2": {
          "model_module": "@jupyter-widgets/base",
          "model_name": "LayoutModel",
          "model_module_version": "1.2.0",
          "state": {
            "_model_module": "@jupyter-widgets/base",
            "_model_module_version": "1.2.0",
            "_model_name": "LayoutModel",
            "_view_count": null,
            "_view_module": "@jupyter-widgets/base",
            "_view_module_version": "1.2.0",
            "_view_name": "LayoutView",
            "align_content": null,
            "align_items": null,
            "align_self": null,
            "border": null,
            "bottom": null,
            "display": null,
            "flex": null,
            "flex_flow": null,
            "grid_area": null,
            "grid_auto_columns": null,
            "grid_auto_flow": null,
            "grid_auto_rows": null,
            "grid_column": null,
            "grid_gap": null,
            "grid_row": null,
            "grid_template_areas": null,
            "grid_template_columns": null,
            "grid_template_rows": null,
            "height": null,
            "justify_content": null,
            "justify_items": null,
            "left": null,
            "margin": null,
            "max_height": null,
            "max_width": null,
            "min_height": null,
            "min_width": null,
            "object_fit": null,
            "object_position": null,
            "order": null,
            "overflow": null,
            "overflow_x": null,
            "overflow_y": null,
            "padding": null,
            "right": null,
            "top": null,
            "visibility": null,
            "width": null
          }
        },
        "c1c345f2c87a44f48739c9ccdf987876": {
          "model_module": "@jupyter-widgets/controls",
          "model_name": "ProgressStyleModel",
          "model_module_version": "1.5.0",
          "state": {
            "_model_module": "@jupyter-widgets/controls",
            "_model_module_version": "1.5.0",
            "_model_name": "ProgressStyleModel",
            "_view_count": null,
            "_view_module": "@jupyter-widgets/base",
            "_view_module_version": "1.2.0",
            "_view_name": "StyleView",
            "bar_color": null,
            "description_width": ""
          }
        },
        "d4ae9e0ffdff46ffa667d12e73388931": {
          "model_module": "@jupyter-widgets/base",
          "model_name": "LayoutModel",
          "model_module_version": "1.2.0",
          "state": {
            "_model_module": "@jupyter-widgets/base",
            "_model_module_version": "1.2.0",
            "_model_name": "LayoutModel",
            "_view_count": null,
            "_view_module": "@jupyter-widgets/base",
            "_view_module_version": "1.2.0",
            "_view_name": "LayoutView",
            "align_content": null,
            "align_items": null,
            "align_self": null,
            "border": null,
            "bottom": null,
            "display": null,
            "flex": null,
            "flex_flow": null,
            "grid_area": null,
            "grid_auto_columns": null,
            "grid_auto_flow": null,
            "grid_auto_rows": null,
            "grid_column": null,
            "grid_gap": null,
            "grid_row": null,
            "grid_template_areas": null,
            "grid_template_columns": null,
            "grid_template_rows": null,
            "height": null,
            "justify_content": null,
            "justify_items": null,
            "left": null,
            "margin": null,
            "max_height": null,
            "max_width": null,
            "min_height": null,
            "min_width": null,
            "object_fit": null,
            "object_position": null,
            "order": null,
            "overflow": null,
            "overflow_x": null,
            "overflow_y": null,
            "padding": null,
            "right": null,
            "top": null,
            "visibility": null,
            "width": null
          }
        },
        "e92e09e85cb9496394d4f72ea9b2106e": {
          "model_module": "@jupyter-widgets/controls",
          "model_name": "DescriptionStyleModel",
          "model_module_version": "1.5.0",
          "state": {
            "_model_module": "@jupyter-widgets/controls",
            "_model_module_version": "1.5.0",
            "_model_name": "DescriptionStyleModel",
            "_view_count": null,
            "_view_module": "@jupyter-widgets/base",
            "_view_module_version": "1.2.0",
            "_view_name": "StyleView",
            "description_width": ""
          }
        }
      }
    }
  },
  "cells": [
    {
      "cell_type": "markdown",
      "metadata": {
        "id": "view-in-github",
        "colab_type": "text"
      },
      "source": [
        "<a href=\"https://colab.research.google.com/github/geek0075/fellowship/blob/main/fellowship_stanford_cars_classifier_v2.ipynb\" target=\"_parent\"><img src=\"https://colab.research.google.com/assets/colab-badge.svg\" alt=\"Open In Colab\"/></a>"
      ]
    },
    {
      "cell_type": "markdown",
      "source": [
        "**Cars Classification with the Stanford Cars Dataset**"
      ],
      "metadata": {
        "id": "Ykx6orOgkctP"
      }
    },
    {
      "cell_type": "markdown",
      "source": [
        "The Cars dataset contains 16,185 images of 196 classes of cars. The data is split into 8,144 training images and 8,041 testing images, where each class has been split roughly in a 50-50 split. Classes are typically at the level of Make, Model, Year, e.g. 2012 Tesla Model S or 2012 BMW M3 coupe."
      ],
      "metadata": {
        "id": "dDiEGfCRmEEr"
      }
    },
    {
      "cell_type": "markdown",
      "source": [
        "**Data Split**"
      ],
      "metadata": {
        "id": "_-y-S5GKFQkR"
      }
    },
    {
      "cell_type": "markdown",
      "source": [
        "In this notebook the Training Set of 8,144 images is further split in a 85:15 ratio, with 85% being used as the Training Dataset and 15% being used as the Validation Dataset."
      ],
      "metadata": {
        "id": "zNNjSyUTFWlu"
      }
    },
    {
      "cell_type": "markdown",
      "source": [
        "**Transfer Learning for Computer Vision**"
      ],
      "metadata": {
        "id": "jSQgBdizGutb"
      }
    },
    {
      "cell_type": "markdown",
      "source": [
        "In practice, very few people train an entire Convolutional Network from scratch (with random initialization), because it is relatively rare to have a dataset of sufficient size. Instead, it is common to pretrain a ConvNet on a very large dataset (e.g. ImageNet, which contains 1.2 million images with 1000 categories), and then use the ConvNet either as an initialization or a fixed feature extractor for the task of interest.\n",
        "\n",
        "These two major transfer learning scenarios look as follows:\n",
        "\n",
        "1.   **Finetuning the convnet**: Instead of random initialization, we initialize the network with a pretrained network, like the one that is trained on imagenet 1000 dataset. Rest of the training looks as usual.\n",
        "2.   **ConvNet as fixed feature extractor**: Here, we will freeze the weights for all of the network except that of the final fully connected layer. This last fully connected layer is replaced with a new one with random weights and only this layer is trained.\n",
        "\n",
        "In this Notebook we will be **Finetuning the Convnet** for a pre-trained neural network that ships with PyTorch."
      ],
      "metadata": {
        "id": "qyFYEui-GxDm"
      }
    },
    {
      "cell_type": "markdown",
      "source": [
        "**Residual Neural Network**"
      ],
      "metadata": {
        "id": "YdIKn3TXKJ1p"
      }
    },
    {
      "cell_type": "markdown",
      "source": [
        "Residual neural network (ResNet) is an artificial neural network (ANN). Residual neural networks utilize skip connections, or shortcuts to jump over some layers. Typical ResNet models are implemented with double- or triple- layer skips that contain nonlinearities (ReLU) and batch normalization in between. An additional weight matrix may be used to learn the skip weights; these models are known as HighwayNets. Models with several parallel skips are referred to as DenseNets. In the context of residual neural networks, a non-residual network may be described as a plain network.\n",
        "\n",
        "In this Notebook we will be **Finetuning the Convnet** for the pre-trained **ResNet34** that ships with PyTorch."
      ],
      "metadata": {
        "id": "_akpTdnPKTKq"
      }
    },
    {
      "cell_type": "markdown",
      "source": [
        "**Load Python Packages**"
      ],
      "metadata": {
        "id": "l3SGxpF6dWt0"
      }
    },
    {
      "cell_type": "code",
      "execution_count": 11,
      "metadata": {
        "colab": {
          "base_uri": "https://localhost:8080/"
        },
        "id": "ykdo-fhg0C7J",
        "outputId": "ccb2bc8f-ed21-45d4-ae22-ef5019b5e502"
      },
      "outputs": [
        {
          "output_type": "stream",
          "name": "stdout",
          "text": [
            "Drive already mounted at /content/drive; to attempt to forcibly remount, call drive.mount(\"/content/drive\", force_remount=True).\n"
          ]
        }
      ],
      "source": [
        "from __future__ import print_function, division\n",
        "\n",
        "import torch\n",
        "import torch.nn as nn\n",
        "import torch.optim as optim\n",
        "from torch.optim import lr_scheduler\n",
        "import torch.backends.cudnn as cudnn\n",
        "import numpy as np\n",
        "import pandas as pd\n",
        "import torchvision\n",
        "from torchvision import datasets, models, transforms\n",
        "import matplotlib.pyplot as plt\n",
        "from collections import Counter\n",
        "import time\n",
        "import os\n",
        "import copy\n",
        "\n",
        "from google.colab import drive\n",
        "drive.mount('/content/drive')\n",
        "\n",
        "cudnn.benchmark = True\n",
        "plt.ion()   # interactive mode"
      ]
    },
    {
      "cell_type": "markdown",
      "source": [
        "**Data Loading, Augmentation and Normalization for Training**"
      ],
      "metadata": {
        "id": "_3u9cSlqd6SX"
      }
    },
    {
      "cell_type": "code",
      "source": [
        "data_transforms = {\n",
        "    'train': transforms.Compose([\n",
        "        transforms.Resize(256),\n",
        "        transforms.CenterCrop(224),\n",
        "        transforms.RandomHorizontalFlip(),\n",
        "        transforms.AutoAugment(),\n",
        "        transforms.ToTensor(),\n",
        "        transforms.Normalize([0.485, 0.456, 0.406], [0.229, 0.224, 0.225])\n",
        "    ]),\n",
        "    'val': transforms.Compose([\n",
        "        transforms.Resize(256),\n",
        "        transforms.CenterCrop(224),\n",
        "        transforms.ToTensor(),\n",
        "        transforms.Normalize([0.485, 0.456, 0.406], [0.229, 0.224, 0.225])\n",
        "    ]),\n",
        "    'test': transforms.Compose([\n",
        "        transforms.Resize(256),\n",
        "        transforms.CenterCrop(224),\n",
        "        transforms.ToTensor(),\n",
        "        transforms.Normalize([0.485, 0.456, 0.406], [0.229, 0.224, 0.225])\n",
        "    ]),\n",
        "}\n",
        "\n",
        "data_dir = '/content/drive/MyDrive/fellowship/stanford_cars/sklearn2'\n",
        "image_datasets = {x: datasets.ImageFolder(os.path.join(data_dir, x), data_transforms[x]) for x in ['train', 'val', 'test']}\n",
        "image_batchsizes = { 'train' : 4, 'val' : 4, 'test' : 4 }\n",
        "dataloaders = {x: torch.utils.data.DataLoader(image_datasets[x], batch_size=image_batchsizes[x], shuffle=True, num_workers=2) for x in ['train', 'val', 'test']}\n",
        "dataset_sizes = {x: len(image_datasets[x]) for x in ['train', 'val', 'test']}\n",
        "class_names = image_datasets['train'].classes\n",
        "\n",
        "device = torch.device(\"cuda:0\" if torch.cuda.is_available() else \"cpu\")\n",
        "print(f\"Using {device} device\")"
      ],
      "metadata": {
        "colab": {
          "base_uri": "https://localhost:8080/"
        },
        "id": "yLveFIGl0wZD",
        "outputId": "afc83194-c375-4e8e-e569-c38021a4b817"
      },
      "execution_count": 12,
      "outputs": [
        {
          "output_type": "stream",
          "name": "stdout",
          "text": [
            "Using cuda:0 device\n"
          ]
        }
      ]
    },
    {
      "cell_type": "markdown",
      "source": [
        "**Plot Distribution of Labels**"
      ],
      "metadata": {
        "id": "E01uu7UQdgve"
      }
    },
    {
      "cell_type": "code",
      "source": [
        "df = pd.read_csv('/content/drive/MyDrive/fellowship/stanford_cars/cars_train_annos.csv')\n",
        "df['class'].hist()"
      ],
      "metadata": {
        "colab": {
          "base_uri": "https://localhost:8080/",
          "height": 282
        },
        "id": "GXZcOODRW8zX",
        "outputId": "f300001c-6b84-4d57-a40e-a18cf34efcef"
      },
      "execution_count": 13,
      "outputs": [
        {
          "output_type": "execute_result",
          "data": {
            "text/plain": [
              "<matplotlib.axes._subplots.AxesSubplot at 0x7fe0cfb27a90>"
            ]
          },
          "metadata": {},
          "execution_count": 13
        },
        {
          "output_type": "display_data",
          "data": {
            "text/plain": [
              "<Figure size 432x288 with 1 Axes>"
            ],
            "image/png": "[encoded data removed]"
          },
          "metadata": {
            "needs_background": "light"
          }
        }
      ]
    },
    {
      "cell_type": "markdown",
      "source": [
        "**Define Python Utility Function for Plotting Tensor**"
      ],
      "metadata": {
        "id": "zdFwrrkoemYX"
      }
    },
    {
      "cell_type": "code",
      "source": [
        "def imshow(inp, title=None):\n",
        "    \"\"\"Imshow for Tensor.\"\"\"\n",
        "    inp = inp.numpy().transpose((1, 2, 0))\n",
        "    mean = np.array([0.485, 0.456, 0.406])\n",
        "    std = np.array([0.229, 0.224, 0.225])\n",
        "    inp = std * inp + mean\n",
        "    inp = np.clip(inp, 0, 1)\n",
        "    plt.imshow(inp)\n",
        "    if title is not None:\n",
        "        plt.title(title)\n",
        "    plt.pause(0.001)  # pause a bit so that plots are updated"
      ],
      "metadata": {
        "id": "W2HKNORM1w4d"
      },
      "execution_count": 14,
      "outputs": []
    },
    {
      "cell_type": "markdown",
      "source": [
        "**Get a batch of training data**"
      ],
      "metadata": {
        "id": "DMijpEc5goRc"
      }
    },
    {
      "cell_type": "code",
      "source": [
        "# Get a batch of training data\n",
        "inputs, classes = next(iter(dataloaders['train']))\n",
        "\n",
        "# Make a grid from batch\n",
        "out = torchvision.utils.make_grid(inputs)\n",
        "\n",
        "imshow(out, title=[class_names[x] for x in classes])"
      ],
      "metadata": {
        "colab": {
          "base_uri": "https://localhost:8080/",
          "height": 148
        },
        "id": "CKwTFtKzgox1",
        "outputId": "2078d0c0-c491-4b02-9ba0-deffc024046a"
      },
      "execution_count": 15,
      "outputs": [
        {
          "output_type": "display_data",
          "data": {
            "text/plain": [
              "<Figure size 432x288 with 1 Axes>"
            ],
            "image/png": "[encoded data removed]"
          },
          "metadata": {
            "needs_background": "light"
          }
        }
      ]
    },
    {
      "cell_type": "markdown",
      "source": [
        "**Define Python Function for Training model**"
      ],
      "metadata": {
        "id": "o3sgOPbDeQXi"
      }
    },
    {
      "cell_type": "code",
      "source": [
        "def train_model(model, criterion, optimizer, scheduler, num_epochs=25):\n",
        "    since = time.time()\n",
        "\n",
        "    best_model_wts = copy.deepcopy(model.state_dict())\n",
        "    best_acc = 0.0\n",
        "\n",
        "    for epoch in range(num_epochs):\n",
        "        print('Epoch {}/{}'.format(epoch, num_epochs - 1))\n",
        "        print('-' * 10)\n",
        "\n",
        "        # Each epoch has a training and validation phase\n",
        "        for phase in ['train', 'val']:\n",
        "            if phase == 'train':\n",
        "                model.train()  # Set model to training mode\n",
        "            else:\n",
        "                model.eval()   # Set model to evaluate mode\n",
        "\n",
        "            running_loss = 0.0\n",
        "            running_corrects = 0\n",
        "\n",
        "            # Iterate over data.\n",
        "            for inputs, labels in dataloaders[phase]:\n",
        "                inputs = inputs.to(device)\n",
        "                labels = labels.to(device)\n",
        "\n",
        "                # zero the parameter gradients\n",
        "                optimizer.zero_grad()\n",
        "\n",
        "                # forward\n",
        "                # track history if only in train\n",
        "                with torch.set_grad_enabled(phase == 'train'):\n",
        "                    outputs = model(inputs)\n",
        "                    _, preds = torch.max(outputs, 1)\n",
        "                    loss = criterion(outputs, labels)\n",
        "\n",
        "                    # backward + optimize only if in training phase\n",
        "                    if phase == 'train':\n",
        "                        loss.backward()\n",
        "                        optimizer.step()\n",
        "\n",
        "                # statistics\n",
        "                running_loss += loss.item() * inputs.size(0)\n",
        "                running_corrects += torch.sum(preds == labels.data)\n",
        "            if phase == 'train':\n",
        "                scheduler.step()\n",
        "\n",
        "            epoch_loss = running_loss / dataset_sizes[phase]\n",
        "            epoch_acc = running_corrects.double() / dataset_sizes[phase]\n",
        "\n",
        "            print('{} Loss: {:.4f} Acc: {:.4f}'.format(\n",
        "                phase, epoch_loss, epoch_acc))\n",
        "\n",
        "            # deep copy the model\n",
        "            if phase == 'val' and epoch_acc > best_acc:\n",
        "                best_acc = epoch_acc\n",
        "                best_model_wts = copy.deepcopy(model.state_dict())\n",
        "\n",
        "        print()\n",
        "\n",
        "    time_elapsed = time.time() - since\n",
        "    print('Training complete in {:.0f}m {:.0f}s'.format(\n",
        "        time_elapsed // 60, time_elapsed % 60))\n",
        "    print('Best val Acc: {:4f}'.format(best_acc))\n",
        "\n",
        "    # load best model weights\n",
        "    model.load_state_dict(best_model_wts)\n",
        "    return model"
      ],
      "metadata": {
        "id": "3ULamZXz1fe4"
      },
      "execution_count": 16,
      "outputs": []
    },
    {
      "cell_type": "markdown",
      "source": [
        "**Define Python Function for Predicting model**"
      ],
      "metadata": {
        "id": "zQ4-gD7qeXYK"
      }
    },
    {
      "cell_type": "code",
      "source": [
        "def predict_model(model):\n",
        "    model.eval()   # Set model to evaluate mode\n",
        "    running_corrects = 0\n",
        "    phase = 'test'\n",
        "    # Iterate over data.\n",
        "    for inputs, labels in dataloaders[phase]:\n",
        "        inputs = inputs.to(device)\n",
        "        labels = labels.to(device)\n",
        "        with torch.set_grad_enabled(phase == 'train'):\n",
        "            outputs = model(inputs)\n",
        "            _, preds = torch.max(outputs, 1)\n",
        "        # statistics\n",
        "        running_corrects += torch.sum(preds == labels.data)\n",
        "    epoch_acc = running_corrects.double() / dataset_sizes[phase]\n",
        "    print('{} Acc: {:.4f}'.format(phase, epoch_acc))"
      ],
      "metadata": {
        "id": "EVrtfhJBam5v"
      },
      "execution_count": 17,
      "outputs": []
    },
    {
      "cell_type": "markdown",
      "source": [
        "**Define Python Function for Visualizing model**"
      ],
      "metadata": {
        "id": "vltKKkiFedfO"
      }
    },
    {
      "cell_type": "code",
      "source": [
        "def visualize_model(model, num_images=6):\n",
        "    was_training = model.training\n",
        "    model.eval()\n",
        "    images_so_far = 0\n",
        "    fig = plt.figure()\n",
        "\n",
        "    with torch.no_grad():\n",
        "        for i, (inputs, labels) in enumerate(dataloaders['val']):\n",
        "            inputs = inputs.to(device)\n",
        "            labels = labels.to(device)\n",
        "\n",
        "            outputs = model(inputs)\n",
        "            _, preds = torch.max(outputs, 1)\n",
        "\n",
        "            for j in range(inputs.size()[0]):\n",
        "                images_so_far += 1\n",
        "                ax = plt.subplot(num_images//2, 2, images_so_far)\n",
        "                ax.axis('off')\n",
        "                ax.set_title('predicted: {}'.format(class_names[preds[j]]))\n",
        "                imshow(inputs.cpu().data[j])\n",
        "\n",
        "                if images_so_far == num_images:\n",
        "                    model.train(mode=was_training)\n",
        "                    return\n",
        "        model.train(mode=was_training)"
      ],
      "metadata": {
        "id": "sPFxODj91rOm"
      },
      "execution_count": 18,
      "outputs": []
    },
    {
      "cell_type": "markdown",
      "source": [
        "**Create Pre-Trained PyTorch ResNet34 model, Fine Tune model**"
      ],
      "metadata": {
        "id": "L4ZLF6_rhl47"
      }
    },
    {
      "cell_type": "code",
      "source": [
        "model_ft = models.resnet34(pretrained=True)\n",
        "num_ftrs = model_ft.fc.in_features\n",
        "model_ft.fc = nn.Linear(num_ftrs, len(class_names))\n",
        "model_ft = model_ft.to(device)\n",
        "criterion = nn.CrossEntropyLoss()\n",
        "# Observe that all parameters are being optimized\n",
        "optimizer_ft = optim.SGD(model_ft.parameters(), lr=0.001, momentum=0.9)\n",
        "# optimizer_ft = optim.Adam(model_ft.parameters(), lr=0.001)\n",
        "# Decay LR by a factor of 0.1 every 7 epochs\n",
        "exp_lr_scheduler = lr_scheduler.StepLR(optimizer_ft, step_size=7, gamma=0.1)\n",
        "model_ft = train_model(model_ft, criterion, optimizer_ft, exp_lr_scheduler, num_epochs=25)\n",
        "torch.save(model_ft.state_dict(), \"model_ft.pth\")\n",
        "print(\"Saved PyTorch Model State to model_ft.pth\")"
      ],
      "metadata": {
        "colab": {
          "base_uri": "https://localhost:8080/",
          "height": 1000,
          "referenced_widgets": [
            "04c3e6d4f905402e847473659cd43d56",
            "22930f9960f74951b3fc9ae277e8020a",
            "473c4b196c9a4d85861b30b0637a4dc6",
            "f9c63e11d1434d52a938f905cd5ea245",
            "05426c4839e842db957f34584d5fe240",
            "8faddeca95c841c79585dafa67f95f12",
            "bad8a412f90c47ab8bade9bcdc68d75e",
            "b10234904fe94615b57449b3cd5ebbf2",
            "c1c345f2c87a44f48739c9ccdf987876",
            "d4ae9e0ffdff46ffa667d12e73388931",
            "e92e09e85cb9496394d4f72ea9b2106e"
          ]
        },
        "id": "MaU6wDPNhmTq",
        "outputId": "995e2d6b-72ef-45ca-9cda-0806da7fdf5a"
      },
      "execution_count": 19,
      "outputs": [
        {
          "output_type": "stream",
          "name": "stderr",
          "text": [
            "Downloading: \"https://download.pytorch.org/models/resnet34-b627a593.pth\" to /root/.cache/torch/hub/checkpoints/resnet34-b627a593.pth\n"
          ]
        },
        {
          "output_type": "display_data",
          "data": {
            "text/plain": [
              "  0%|          | 0.00/83.3M [00:00<?, ?B/s]"
            ],
            "application/vnd.jupyter.widget-view+json": {
              "version_major": 2,
              "version_minor": 0,
              "model_id": "04c3e6d4f905402e847473659cd43d56"
            }
          },
          "metadata": {}
        },
        {
          "output_type": "stream",
          "name": "stdout",
          "text": [
            "Epoch 0/24\n",
            "----------\n",
            "train Loss: 4.8576 Acc: 0.0393\n",
            "val Loss: 3.4139 Acc: 0.1727\n",
            "\n",
            "Epoch 1/24\n",
            "----------\n",
            "train Loss: 3.5940 Acc: 0.1686\n",
            "val Loss: 2.3053 Acc: 0.4043\n",
            "\n",
            "Epoch 2/24\n",
            "----------\n",
            "train Loss: 2.7598 Acc: 0.3279\n",
            "val Loss: 1.8055 Acc: 0.4943\n",
            "\n",
            "Epoch 3/24\n",
            "----------\n",
            "train Loss: 2.1512 Acc: 0.4455\n",
            "val Loss: 1.4021 Acc: 0.6211\n",
            "\n",
            "Epoch 4/24\n",
            "----------\n",
            "train Loss: 1.7591 Acc: 0.5412\n",
            "val Loss: 1.3545 Acc: 0.6227\n",
            "\n",
            "Epoch 5/24\n",
            "----------\n",
            "train Loss: 1.4725 Acc: 0.6151\n",
            "val Loss: 1.1813 Acc: 0.6653\n",
            "\n",
            "Epoch 6/24\n",
            "----------\n",
            "train Loss: 1.2953 Acc: 0.6530\n",
            "val Loss: 1.1570 Acc: 0.6890\n",
            "\n",
            "Epoch 7/24\n",
            "----------\n",
            "train Loss: 0.7856 Acc: 0.8041\n",
            "val Loss: 0.7282 Acc: 0.7872\n",
            "\n",
            "Epoch 8/24\n",
            "----------\n",
            "train Loss: 0.5895 Acc: 0.8625\n",
            "val Loss: 0.7061 Acc: 0.7962\n",
            "\n",
            "Epoch 9/24\n",
            "----------\n",
            "train Loss: 0.5580 Acc: 0.8655\n",
            "val Loss: 0.6666 Acc: 0.8011\n",
            "\n",
            "Epoch 10/24\n",
            "----------\n",
            "train Loss: 0.5166 Acc: 0.8798\n",
            "val Loss: 0.6473 Acc: 0.8134\n",
            "\n",
            "Epoch 11/24\n",
            "----------\n",
            "train Loss: 0.4813 Acc: 0.8896\n",
            "val Loss: 0.6158 Acc: 0.8175\n",
            "\n",
            "Epoch 12/24\n",
            "----------\n",
            "train Loss: 0.4438 Acc: 0.8973\n",
            "val Loss: 0.6094 Acc: 0.8232\n",
            "\n",
            "Epoch 13/24\n",
            "----------\n",
            "train Loss: 0.4461 Acc: 0.8986\n",
            "val Loss: 0.6035 Acc: 0.8200\n",
            "\n",
            "Epoch 14/24\n",
            "----------\n",
            "train Loss: 0.4035 Acc: 0.9086\n",
            "val Loss: 0.6075 Acc: 0.8134\n",
            "\n",
            "Epoch 15/24\n",
            "----------\n",
            "train Loss: 0.4064 Acc: 0.9116\n",
            "val Loss: 0.5926 Acc: 0.8347\n",
            "\n",
            "Epoch 16/24\n",
            "----------\n",
            "train Loss: 0.4006 Acc: 0.9107\n",
            "val Loss: 0.6029 Acc: 0.8265\n",
            "\n",
            "Epoch 17/24\n",
            "----------\n",
            "train Loss: 0.3879 Acc: 0.9175\n",
            "val Loss: 0.5948 Acc: 0.8306\n",
            "\n",
            "Epoch 18/24\n",
            "----------\n",
            "train Loss: 0.4018 Acc: 0.9075\n",
            "val Loss: 0.6006 Acc: 0.8249\n",
            "\n",
            "Epoch 19/24\n",
            "----------\n",
            "train Loss: 0.3884 Acc: 0.9149\n",
            "val Loss: 0.5898 Acc: 0.8265\n",
            "\n",
            "Epoch 20/24\n",
            "----------\n",
            "train Loss: 0.3710 Acc: 0.9227\n",
            "val Loss: 0.5671 Acc: 0.8306\n",
            "\n",
            "Epoch 21/24\n",
            "----------\n",
            "train Loss: 0.3879 Acc: 0.9145\n",
            "val Loss: 0.5982 Acc: 0.8265\n",
            "\n",
            "Epoch 22/24\n",
            "----------\n",
            "train Loss: 0.3709 Acc: 0.9187\n",
            "val Loss: 0.5959 Acc: 0.8216\n",
            "\n",
            "Epoch 23/24\n",
            "----------\n",
            "train Loss: 0.3754 Acc: 0.9156\n",
            "val Loss: 0.5917 Acc: 0.8257\n",
            "\n",
            "Epoch 24/24\n",
            "----------\n",
            "train Loss: 0.3665 Acc: 0.9250\n",
            "val Loss: 0.6114 Acc: 0.8216\n",
            "\n",
            "Training complete in 128m 3s\n",
            "Best val Acc: 0.834697\n",
            "Saved PyTorch Model State to model_ft.pth\n"
          ]
        }
      ]
    },
    {
      "cell_type": "markdown",
      "source": [
        "**Evaluate model on Test Set**"
      ],
      "metadata": {
        "id": "l-4haJ5NiKr5"
      }
    },
    {
      "cell_type": "code",
      "source": [
        "predict_model(model_ft)"
      ],
      "metadata": {
        "colab": {
          "base_uri": "https://localhost:8080/"
        },
        "id": "9dnlXdN-iPO4",
        "outputId": "31badb46-9acd-436d-94a7-7f1d208cc5e0"
      },
      "execution_count": 20,
      "outputs": [
        {
          "output_type": "stream",
          "name": "stdout",
          "text": [
            "test Acc: 0.8259\n"
          ]
        }
      ]
    },
    {
      "cell_type": "markdown",
      "source": [
        "**Visualize model**"
      ],
      "metadata": {
        "id": "B2DXe-7TidMj"
      }
    },
    {
      "cell_type": "code",
      "source": [
        "visualize_model(model_ft)"
      ],
      "metadata": {
        "colab": {
          "base_uri": "https://localhost:8080/",
          "height": 581
        },
        "id": "ZHuGKcsligbo",
        "outputId": "d2b2356b-121e-4b84-bdc9-fcd77f1810ed"
      },
      "execution_count": 21,
      "outputs": [
        {
          "output_type": "display_data",
          "data": {
            "text/plain": [
              "<Figure size 432x288 with 1 Axes>"
            ],
            "image/png": "[encoded data removed]"
          },
          "metadata": {
            "needs_background": "light"
          }
        },
        {
          "output_type": "display_data",
          "data": {
            "text/plain": [
              "<Figure size 432x288 with 1 Axes>"
            ],
            "image/png": "[encoded data removed]"
          },
          "metadata": {
            "needs_background": "light"
          }
        },
        {
          "output_type": "display_data",
          "data": {
            "text/plain": [
              "<Figure size 432x288 with 1 Axes>"
            ],
            "image/png": "[encoded data removed]"
          },
          "metadata": {
            "needs_background": "light"
          }
        },
        {
          "output_type": "display_data",
          "data": {
            "text/plain": [
              "<Figure size 432x288 with 1 Axes>"
            ],
            "image/png": "[encoded data removed]"
          },
          "metadata": {
            "needs_background": "light"
          }
        },
        {
          "output_type": "display_data",
          "data": {
            "text/plain": [
              "<Figure size 432x288 with 1 Axes>"
            ],
            "image/png": "[encoded data removed]"
          },
          "metadata": {
            "needs_background": "light"
          }
        },
        {
          "output_type": "display_data",
          "data": {
            "text/plain": [
              "<Figure size 432x288 with 1 Axes>"
            ],
            "image/png": "[encoded data removed]"
          },
          "metadata": {
            "needs_background": "light"
          }
        }
      ]
    },
    {
      "cell_type": "markdown",
      "source": [
        "**References**\n",
        "\n",
        "1.   https://pytorch.org/tutorials/beginner/transfer_learning_tutorial.html\n",
        "2.   https://ai.stanford.edu/~jkrause/cars/car_dataset.html"
      ],
      "metadata": {
        "id": "oRFwrgFHmema"
      }
    }
  ]
}