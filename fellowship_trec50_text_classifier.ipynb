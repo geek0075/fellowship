{
  "nbformat": 4,
  "nbformat_minor": 0,
  "metadata": {
    "colab": {
      "name": "fellowship_trec50_text_classifier.ipynb",
      "provenance": [],
      "collapsed_sections": [],
      "authorship_tag": "ABX9TyMe9KRg0nMIgTR3sQbtg5TK",
      "include_colab_link": true
    },
    "kernelspec": {
      "name": "python3",
      "display_name": "Python 3"
    },
    "language_info": {
      "name": "python"
    }
  },
  "cells": [
    {
      "cell_type": "markdown",
      "metadata": {
        "id": "view-in-github",
        "colab_type": "text"
      },
      "source": [
        "<a href=\"https://colab.research.google.com/github/geek0075/fellowship/blob/main/fellowship_trec50_text_classifier.ipynb\" target=\"_parent\"><img src=\"https://colab.research.google.com/assets/colab-badge.svg\" alt=\"Open In Colab\"/></a>"
      ]
    },
    {
      "cell_type": "markdown",
      "source": [
        "**Question Classification with TREC-50 Dataset**"
      ],
      "metadata": {
        "id": "MyNKXasrdlfP"
      }
    },
    {
      "cell_type": "markdown",
      "source": [
        "Text classification algorithms are at the heart of a variety of software systems that process text data at scale. Email software uses text classification to determine whether incoming mail is sent to the inbox or filtered into the spam folder. Discussion forums use text classification to determine whether comments should be flagged as inappropriate.\n",
        "\n",
        "These are two examples of topic classification, categorizing a text document into one of a predefined set of topics. In many topic classification problems, this categorization is based primarily on keywords in the text.\n",
        "\n",
        "This notebook is based on the Experimental Data for Text Classification available online at https://cogcomp.seas.upenn.edu/Data/QA/QC/. In particular this notebook uses the Training Set 5 (5500 labeled questions) and the Test Set: TREC-10 questions, both available on that website listed above."
      ],
      "metadata": {
        "id": "HMpWecLjNwOt"
      }
    },
    {
      "cell_type": "markdown",
      "source": [
        "**Training Set**"
      ],
      "metadata": {
        "id": "YBxd0VC4IcTr"
      }
    },
    {
      "cell_type": "markdown",
      "source": [
        "The Training Set consists of 5500 labeled examples of the following form:\n",
        "1.   LOC:state Which two states enclose Chesapeake Bay ?\n",
        "2.   ABBR:exp What does the abbreviation AIDS stand for ?\n",
        "3.   NUM:count How many points make up a perfect fivepin bowling score ?\n",
        "4.   NUM:count How many Community Chest cards are there in Monopoly ?\n",
        "5.   DESC:desc What do Mormons believe ?\n",
        "\n",
        "Where each of the LOC:state, ABBR:exp, NUM:count, etc, constitute the fine-grained label and everything following that to the end of the line constitute the question. So for example 1, above, 'LOC:state' is the fine-grained label, while 'Which two states enclose Chesapeake Bay ?' is the question."
      ],
      "metadata": {
        "id": "-FP-IXDWB7Co"
      }
    },
    {
      "cell_type": "markdown",
      "source": [
        "**Validation Set**"
      ],
      "metadata": {
        "id": "ATxtVVTzJqSn"
      }
    },
    {
      "cell_type": "markdown",
      "source": [
        "In this notebook, the Training Set described above is divided into a Training Set of 80% of the Original Training Set while the rest 20% is used for Validation Set during model Training."
      ],
      "metadata": {
        "id": "9L4H5l4NJs3U"
      }
    },
    {
      "cell_type": "markdown",
      "source": [
        "**Testing Set**"
      ],
      "metadata": {
        "id": "o9pskq9sIumy"
      }
    },
    {
      "cell_type": "markdown",
      "source": [
        "The Testing Set consists of 500 labeled examples of exactly the same kind described above for the Training Set:\n",
        "1.   NUM:dist How far is it from Denver to Aspen ?\n",
        "2.   LOC:city What county is Modesto , California in ?\n",
        "3.   HUM:desc Who was Galileo ?\n",
        "4.   DESC:def What is an atom ?\n",
        "5.   NUM:date When did Hawaii become a state ?\n",
        "\n",
        "Where each of the NUM:dist, LOC:city, HUM:desc, etc, constitute the fine-grained label and everything following that to the end of the line constitute the question. So for example 1, above, 'NUM:dist' is the fine-grained label, while 'How far is it from Denver to Aspen ?' is the question.\n",
        "\n",
        "The Testing Set is used purely for prediction and thus serves as a set of previously unseen examples. The labels on the Testing Set are used to compute an Accuracy figure for the Trained Classifier during prediction."
      ],
      "metadata": {
        "id": "j5hprXqYI4ec"
      }
    },
    {
      "cell_type": "markdown",
      "source": [
        "**Labels**"
      ],
      "metadata": {
        "id": "1XmJEuFfI67J"
      }
    },
    {
      "cell_type": "markdown",
      "source": [
        "In this notebook, our classification will be based on the following 6 classes of labels:\n",
        "1.   ABBR\n",
        "2.   ENTY\n",
        "3.   HUM\n",
        "4.   NUM\n",
        "5.   LOC\n",
        "6.   DESC"
      ],
      "metadata": {
        "id": "isWEc1HCJCgj"
      }
    },
    {
      "cell_type": "markdown",
      "source": [
        "**Load Python Packages**"
      ],
      "metadata": {
        "id": "LrZlztAMSB0Y"
      }
    },
    {
      "cell_type": "code",
      "execution_count": 1,
      "metadata": {
        "colab": {
          "base_uri": "https://localhost:8080/"
        },
        "id": "OnXG40dRo8Hi",
        "outputId": "c970c7ee-30cc-4769-909c-4960509211a3"
      },
      "outputs": [
        {
          "output_type": "stream",
          "name": "stdout",
          "text": [
            "Mounted at /content/drive\n"
          ]
        }
      ],
      "source": [
        "from collections import Counter\n",
        "from sklearn.feature_extraction.text import CountVectorizer\n",
        "\n",
        "import pandas as pd\n",
        "import numpy as np\n",
        "import matplotlib.pyplot as plt\n",
        "import random\n",
        "from sklearn.model_selection import train_test_split\n",
        "\n",
        "import torch\n",
        "from torch import nn\n",
        "from torchtext.data.utils import get_tokenizer\n",
        "from torchtext.vocab import build_vocab_from_iterator\n",
        "from torch.utils.data import DataLoader\n",
        "from torch.utils.data.dataset import random_split\n",
        "from torchtext.data.functional import to_map_style_dataset\n",
        "import time\n",
        "\n",
        "from torch.utils.data import Dataset\n",
        "\n",
        "from google.colab import drive\n",
        "drive.mount('/content/drive')"
      ]
    },
    {
      "cell_type": "markdown",
      "source": [
        "**Define Python Function for Loading Data for Exploratory Data Analysis**"
      ],
      "metadata": {
        "id": "kfmc-rKAShse"
      }
    },
    {
      "cell_type": "code",
      "source": [
        "def load_data(seed=123):\n",
        "    df = pd.read_csv('/content/drive/MyDrive/fellowship/trec-data/train_5500.csv')\n",
        "    X = df['question']\n",
        "    y = df['class'] - 1\n",
        "    X_train, X_val, y_train, y_val = train_test_split(X, y, test_size=0.2, random_state=42, shuffle=True, stratify=y)\n",
        "    train_texts = X_train.tolist()\n",
        "    train_labels = y_train.tolist()\n",
        "    val_texts = X_val.tolist()\n",
        "    val_labels = y_val.tolist()\n",
        "    df_test = pd.read_csv('/content/drive/MyDrive/fellowship/trec-data/trec_10.csv')\n",
        "    X_test = df_test['question']\n",
        "    y_test = df_test['class'] - 1\n",
        "    test_texts = X_test.tolist()\n",
        "    test_labels = y_test.tolist()\n",
        "    # Shuffle the training data and labels.\n",
        "    random.seed(seed)\n",
        "    random.shuffle(train_texts)\n",
        "    random.seed(seed)\n",
        "    random.shuffle(train_labels)\n",
        "    return ((train_texts, np.array(train_labels)), (val_texts, np.array(val_labels)), (test_texts, np.array(test_labels)))"
      ],
      "metadata": {
        "id": "PMANeRHK4WNi"
      },
      "execution_count": 2,
      "outputs": []
    },
    {
      "cell_type": "markdown",
      "source": [
        "**Load the Data for Exploratory Data Analysis**"
      ],
      "metadata": {
        "id": "Ake1ekDTSuv7"
      }
    },
    {
      "cell_type": "code",
      "source": [
        "data = load_data()"
      ],
      "metadata": {
        "id": "ti2nC6fL561s"
      },
      "execution_count": 3,
      "outputs": []
    },
    {
      "cell_type": "markdown",
      "source": [
        "**Define Python Function for finding Number of Unique Labels**"
      ],
      "metadata": {
        "id": "fS3tu85vTI_L"
      }
    },
    {
      "cell_type": "code",
      "source": [
        "def get_num_classes(labels):\n",
        "    \"\"\"Gets the total number of classes.\n",
        "    # Arguments\n",
        "        labels: list, label values.\n",
        "            There should be at lease one sample for values in the\n",
        "            range (0, num_classes -1)\n",
        "    # Returns\n",
        "        int, total number of classes.\n",
        "    # Raises\n",
        "        ValueError: if any label value in the range(0, num_classes - 1)\n",
        "            is missing or if number of classes is <= 1.\n",
        "    \"\"\"\n",
        "    num_classes = max(labels) + 1\n",
        "    missing_classes = [i for i in range(num_classes) if i not in labels]\n",
        "    if len(missing_classes):\n",
        "        raise ValueError('Missing samples with label value(s) '\n",
        "                         '{missing_classes}. Please make sure you have '\n",
        "                         'at least one sample for every label value '\n",
        "                         'in the range(0, {max_class})'.format(\n",
        "                            missing_classes=missing_classes,\n",
        "                            max_class=num_classes - 1))\n",
        "\n",
        "    if num_classes <= 1:\n",
        "        raise ValueError('Invalid number of labels: {num_classes}.'\n",
        "                         'Please make sure there are at least two classes '\n",
        "                         'of samples'.format(num_classes=num_classes))\n",
        "    return num_classes"
      ],
      "metadata": {
        "id": "0BTRhltS6I0i"
      },
      "execution_count": 4,
      "outputs": []
    },
    {
      "cell_type": "markdown",
      "source": [
        "**Define Python Function for finding Number of Words per Example**"
      ],
      "metadata": {
        "id": "xPixfbAxdjGK"
      }
    },
    {
      "cell_type": "code",
      "source": [
        "def get_num_words_per_sample(sample_texts):\n",
        "    \"\"\"Returns the median number of words per sample given corpus.\n",
        "\n",
        "    # Arguments\n",
        "        sample_texts: list, sample texts.\n",
        "\n",
        "    # Returns\n",
        "        int, median number of words per sample.\n",
        "    \"\"\"\n",
        "    num_words = [len(s.split()) for s in sample_texts]\n",
        "    return np.median(num_words)"
      ],
      "metadata": {
        "id": "YhNALX4G6SUL"
      },
      "execution_count": 5,
      "outputs": []
    },
    {
      "cell_type": "markdown",
      "source": [
        "**Define Python Function for plotting Frequency Distribution of n-grams**"
      ],
      "metadata": {
        "id": "r90aXv7od0Yw"
      }
    },
    {
      "cell_type": "code",
      "source": [
        "def plot_frequency_distribution_of_ngrams(sample_texts, ngram_range=(1, 2), num_ngrams=50):\n",
        "    \"\"\"Plots the frequency distribution of n-grams.\n",
        "    # Arguments\n",
        "        samples_texts: list, sample texts.\n",
        "        ngram_range: tuple (min, mplt), The range of n-gram values to consider.\n",
        "            Min and mplt are the lower and upper bound values for the range.\n",
        "        num_ngrams: int, number of n-grams to plot.\n",
        "            Top `num_ngrams` frequent n-grams will be plotted.\n",
        "    \"\"\"\n",
        "    # Create args required for vectorizing.\n",
        "    kwargs = {\n",
        "        'ngram_range': (1, 1),\n",
        "        'dtype': 'int32',\n",
        "        'strip_accents': 'unicode',\n",
        "        'decode_error': 'replace',\n",
        "        'analyzer': 'word',  # Split text into word tokens.\n",
        "    }\n",
        "    vectorizer = CountVectorizer(**kwargs)\n",
        "\n",
        "    # This creates a vocabulary (dict, where keys are n-grams and values are\n",
        "    # idxices). This also converts every text to an array the length of\n",
        "    # vocabulary, where every element idxicates the count of the n-gram\n",
        "    # corresponding at that idxex in vocabulary.\n",
        "    vectorized_texts = vectorizer.fit_transform(sample_texts)\n",
        "\n",
        "    # This is the list of all n-grams in the index order from the vocabulary.\n",
        "    all_ngrams = list(vectorizer.get_feature_names_out())\n",
        "    num_ngrams = min(num_ngrams, len(all_ngrams))\n",
        "    # ngrams = all_ngrams[:num_ngrams]\n",
        "\n",
        "    # Add up the counts per n-gram ie. column-wise\n",
        "    all_counts = vectorized_texts.sum(axis=0).tolist()[0]\n",
        "\n",
        "    # Sort n-grams and counts by frequency and get top `num_ngrams` ngrams.\n",
        "    all_counts, all_ngrams = zip(*[(c, n) for c, n in sorted(zip(all_counts, all_ngrams), reverse=True)])\n",
        "    ngrams = list(all_ngrams)[:num_ngrams]\n",
        "    counts = list(all_counts)[:num_ngrams]\n",
        "\n",
        "    idx = np.arange(num_ngrams)\n",
        "    plt.bar(idx, counts, width=0.8, color='b')\n",
        "    plt.xlabel('N-grams')\n",
        "    plt.ylabel('Frequencies')\n",
        "    plt.title('Frequency distribution of n-grams')\n",
        "    plt.xticks(idx, ngrams, rotation=45)\n",
        "    plt.show()"
      ],
      "metadata": {
        "id": "BsEecjXn6aHh"
      },
      "execution_count": 6,
      "outputs": []
    },
    {
      "cell_type": "markdown",
      "source": [
        "**Define Python Function for plotting Example Length distribution**"
      ],
      "metadata": {
        "id": "T5cECmZDeBIO"
      }
    },
    {
      "cell_type": "code",
      "source": [
        "def plot_sample_length_distribution(sample_texts):\n",
        "    \"\"\"Plots the sample length distribution.\n",
        "\n",
        "    # Arguments\n",
        "        samples_texts: list, sample texts.\n",
        "    \"\"\"\n",
        "    plt.hist([len(s) for s in sample_texts], 50)\n",
        "    plt.xlabel('Length of a sample')\n",
        "    plt.ylabel('Number of samples')\n",
        "    plt.title('Sample length distribution')\n",
        "    plt.show()"
      ],
      "metadata": {
        "id": "WQAQkuas6kSw"
      },
      "execution_count": 7,
      "outputs": []
    },
    {
      "cell_type": "markdown",
      "source": [
        "**Define Python Function for plotting Class distribution of Example labels**"
      ],
      "metadata": {
        "id": "8_aovErdeUy8"
      }
    },
    {
      "cell_type": "code",
      "source": [
        "def plot_class_distribution(labels):\n",
        "    \"\"\"Plots the class distribution.\n",
        "    # Arguments\n",
        "        labels: list, label values.\n",
        "            There should be at lease one sample for values in the\n",
        "            range (0, num_classes -1)\n",
        "    \"\"\"\n",
        "    num_classes = get_num_classes(labels)\n",
        "    count_map = Counter(labels)\n",
        "    counts = [count_map[i] for i in range(num_classes)]\n",
        "    idx = np.arange(num_classes)\n",
        "    plt.bar(idx, counts, width=0.8, color='b')\n",
        "    plt.xlabel('Class')\n",
        "    plt.ylabel('Number of samples')\n",
        "    plt.title('Class distribution')\n",
        "    plt.xticks(idx, idx)\n",
        "    plt.show()"
      ],
      "metadata": {
        "id": "YuqS7NcD6svZ"
      },
      "execution_count": 8,
      "outputs": []
    },
    {
      "cell_type": "markdown",
      "source": [
        "**Extract Raw Train Texts and Train Labels in preparation for Exploratory Data Analysis**"
      ],
      "metadata": {
        "id": "M6e6YxT06NeQ"
      }
    },
    {
      "cell_type": "code",
      "source": [
        "(train_texts, train_labels), _, _ = data"
      ],
      "metadata": {
        "id": "aLnpfmcr67cx"
      },
      "execution_count": 9,
      "outputs": []
    },
    {
      "cell_type": "markdown",
      "source": [
        "**Compute Median Words Per Example as part of Exploratory Data Analysis**"
      ],
      "metadata": {
        "id": "8158AULl6z_b"
      }
    },
    {
      "cell_type": "code",
      "source": [
        "median_words = get_num_words_per_sample(train_texts)\n",
        "print('median_words per sample = {0}'.format(median_words))"
      ],
      "metadata": {
        "colab": {
          "base_uri": "https://localhost:8080/"
        },
        "id": "EY4kX3917CyN",
        "outputId": "381ad502-8f84-4e49-e62d-5e3095e7ddd3"
      },
      "execution_count": 10,
      "outputs": [
        {
          "output_type": "stream",
          "name": "stdout",
          "text": [
            "median_words per sample = 10.0\n"
          ]
        }
      ]
    },
    {
      "cell_type": "markdown",
      "source": [
        "**Compute Number of Classes as part of Exploratory Data Analysis**"
      ],
      "metadata": {
        "id": "kULOY9qf7Oyr"
      }
    },
    {
      "cell_type": "code",
      "source": [
        "num_classes = get_num_classes(train_labels.tolist())\n",
        "print('num_classes = {0}'.format(num_classes))"
      ],
      "metadata": {
        "colab": {
          "base_uri": "https://localhost:8080/"
        },
        "id": "CyOirC0w7c7n",
        "outputId": "1de191e1-3cc1-4c87-ddc6-e3061d9c7f3a"
      },
      "execution_count": 11,
      "outputs": [
        {
          "output_type": "stream",
          "name": "stdout",
          "text": [
            "num_classes = 6\n"
          ]
        }
      ]
    },
    {
      "cell_type": "markdown",
      "source": [
        "**Plot Example Length Distribution as part of Exploratory Data Analysis**"
      ],
      "metadata": {
        "id": "IA0exgdm7lXY"
      }
    },
    {
      "cell_type": "code",
      "source": [
        "plot_sample_length_distribution(train_texts)"
      ],
      "metadata": {
        "colab": {
          "base_uri": "https://localhost:8080/",
          "height": 295
        },
        "id": "WKhikE8P75ur",
        "outputId": "07231a2c-a7fd-47a2-d7ac-c05df888ad5e"
      },
      "execution_count": 12,
      "outputs": [
        {
          "output_type": "display_data",
          "data": {
            "text/plain": [
              "<Figure size 432x288 with 1 Axes>"
            ],
            "image/png": "[encoded data removed]"
          },
          "metadata": {
            "needs_background": "light"
          }
        }
      ]
    },
    {
      "cell_type": "markdown",
      "source": [
        "**Plot Example Label Class Distribution as part of Exploratory Data Analysis**\n",
        "\n",
        "Here you can see that there is an imbalance in the Label Class distribution for Class 0 (ABBR)."
      ],
      "metadata": {
        "id": "SGLtp8MM7_zJ"
      }
    },
    {
      "cell_type": "code",
      "source": [
        "plot_class_distribution(train_labels.tolist())"
      ],
      "metadata": {
        "colab": {
          "base_uri": "https://localhost:8080/",
          "height": 295
        },
        "id": "jzWwhkTD8jfC",
        "outputId": "dc9ad1df-159c-4c4d-d726-82b19f772d29"
      },
      "execution_count": 13,
      "outputs": [
        {
          "output_type": "display_data",
          "data": {
            "text/plain": [
              "<Figure size 432x288 with 1 Axes>"
            ],
            "image/png": "[encoded data removed]"
          },
          "metadata": {
            "needs_background": "light"
          }
        }
      ]
    },
    {
      "cell_type": "markdown",
      "source": [
        "**Plot Frequency Distribution of n-grams as part of Exploratory Data Analysis**"
      ],
      "metadata": {
        "id": "tkYcE9pT8ov5"
      }
    },
    {
      "cell_type": "code",
      "source": [
        "plot_frequency_distribution_of_ngrams(train_texts, ngram_range=(1, 2), num_ngrams=50)"
      ],
      "metadata": {
        "colab": {
          "base_uri": "https://localhost:8080/",
          "height": 326
        },
        "id": "6K249D6f68lN",
        "outputId": "a2acfddf-65ec-4ef2-c0dc-cf9b04ddbf5b"
      },
      "execution_count": 14,
      "outputs": [
        {
          "output_type": "display_data",
          "data": {
            "text/plain": [
              "<Figure size 432x288 with 1 Axes>"
            ],
            "image/png": "[encoded data removed]"
          },
          "metadata": {
            "needs_background": "light"
          }
        }
      ]
    },
    {
      "cell_type": "markdown",
      "source": [
        "**Choose a Model**\n",
        "\n",
        "At this point, we have assembled our dataset and gained insights into the key characteristics of our data through the process of exploratory data analysis.\n",
        "\n",
        "Next, based on the metrics we gathered in exploratory data analysis, we should think about which classification model we should use.\n",
        "\n",
        "This means asking questions such as, \n",
        "\n",
        "1.   “How do we present the text data to an algorithm that expects numeric input?” (this is called data preprocessing and vectorization), \n",
        "2.   “What type of model should we use?”, \n",
        "3.   “What configuration parameters should we use for our model?”, \n",
        "\n",
        "etc."
      ],
      "metadata": {
        "id": "xFyqKVyO-ny_"
      }
    },
    {
      "cell_type": "markdown",
      "source": [
        "**Algorithm for Data Preparation and Model Building**\n",
        "\n",
        "1.   Calculate the number of samples/number of words per sample ratio.\n",
        "2.   If this ratio is less than 1500, tokenize the text as n-grams and use a simple multi-layer perceptron (MLP) model to classify them:\n",
        "     1.   Split the samples into word n-grams; convert the n-grams into vectors.\n",
        "     2.   Score the importance of the vectors and then select the top 20K using the scores.\n",
        "     3.   Build an MLP model.\n",
        "3.   If the ratio is greater than 1500, tokenize the text as sequences and use a sepCNN model to classify them:\n",
        "     1.   Split the samples into words; select the top 20K words based on their frequency.\n",
        "     2.   Convert the samples into word sequence vectors.\n",
        "     3.   If the original number of samples/number of words per sample ratio is less than 15K, using a fine-tuned pre-trained embedding with the sepCNN model will likely provide the best results.\n",
        "4.   Measure the model performance with different hyperparameter values to find the best model configuration for the dataset.\n",
        "\n",
        "This algorithm answers two key questions:\n",
        "\n",
        "1.   Which learning algorithm or model should we use?\n",
        "2.   How should we prepare the data to efficiently learn the relationship between text and label?\n",
        "\n",
        "The answer to the second question depends on the answer to the first question; the way we preprocess data to be fed into a model will depend on what model we choose. Models can be broadly classified into two categories: those that use word ordering information (sequence models), and ones that just see text as “bags” (sets) of words (n-gram models). Types of sequence models include convolutional neural networks (CNNs), recurrent neural networks (RNNs), and their variations. Types of n-gram models include logistic regression, simple multi- layer perceptrons (MLPs, or fully-connected neural networks), gradient boosted trees and support vector machines.\n",
        "\n",
        "In the case of our dataset, the samples/words-per-sample ratio is ~550. This means that we will create a MLP model."
      ],
      "metadata": {
        "id": "-4Ca6G4cA6b_"
      }
    },
    {
      "cell_type": "markdown",
      "source": [
        "**Text Classification MLP Model**\n",
        "\n",
        "The model is composed of the nn.EmbeddingBag layer plus a linear layer for the classification purpose. nn.EmbeddingBag with the default mode of “mean” computes the mean value of a “bag” of embeddings. Although the text entries here have different lengths, nn.EmbeddingBag module requires no padding here since the text lengths are saved in offsets.\n",
        "\n",
        "Additionally, since nn.EmbeddingBag accumulates the average across the embeddings on the fly, nn.EmbeddingBag can enhance the performance and memory efficiency to process a sequence of tensors."
      ],
      "metadata": {
        "id": "EgB7NO0bR2aS"
      }
    },
    {
      "cell_type": "code",
      "source": [
        "class TextClassificationModel(nn.Module):\n",
        "\n",
        "    def __init__(self, vocab_size, embed_dim, num_class):\n",
        "        super(TextClassificationModel, self).__init__()\n",
        "        self.embedding = nn.EmbeddingBag(vocab_size, embed_dim, sparse=True)\n",
        "        self.fc = nn.Linear(embed_dim, num_class)\n",
        "        self.init_weights()\n",
        "\n",
        "    def init_weights(self):\n",
        "        initrange = 0.5\n",
        "        self.embedding.weight.data.uniform_(-initrange, initrange)\n",
        "        self.fc.weight.data.uniform_(-initrange, initrange)\n",
        "        self.fc.bias.data.zero_()\n",
        "\n",
        "    def forward(self, text, offsets):\n",
        "        embedded = self.embedding(text, offsets)\n",
        "        return self.fc(embedded)"
      ],
      "metadata": {
        "id": "cjpSxnV07A38"
      },
      "execution_count": 15,
      "outputs": []
    },
    {
      "cell_type": "markdown",
      "source": [
        "**Trec Custom PyTorch Dataset Class**"
      ],
      "metadata": {
        "id": "xhH50obdSEoS"
      }
    },
    {
      "cell_type": "code",
      "source": [
        "class TrecDataset(Dataset):\n",
        "\n",
        "    def __init__(self, csv_file):\n",
        "        self.trec_frame = pd.read_csv(csv_file)\n",
        "\n",
        "    def __len__(self):\n",
        "        return len(self.trec_frame)\n",
        "\n",
        "    def __getitem__(self, idx):\n",
        "        if torch.is_tensor(idx):\n",
        "            idx = idx.tolist()\n",
        "        label = self.trec_frame.iloc[idx, 0]\n",
        "        question = self.trec_frame.iloc[idx, 2]\n",
        "        return label, question"
      ],
      "metadata": {
        "id": "OsScRVH_7t7T"
      },
      "execution_count": 16,
      "outputs": []
    },
    {
      "cell_type": "markdown",
      "source": [
        "**Data Preparation**\n",
        "\n",
        "Before our data can be fed to a model, it needs to be transformed to a format the model can understand.\n",
        "\n",
        "First, the data samples that we have gathered may be in a specific order. We do not want any information associated with the ordering of samples to influence the relationship between texts and labels. For example, if a dataset is sorted by class and is then split into training/validation sets, these sets will not be representative of the overall distribution of data.\n",
        "\n",
        "A simple best practice to ensure the model is not affected by data order is to always shuffle the data before doing anything else. If your data is already split into training and validation sets, make sure to transform your validation data the same way you transform your training data. If you don’t already have separate training and validation sets, you can split the samples after shuffling; it’s typical to use 80% of the samples for training and 20% for validation.\n",
        "\n",
        "Second, machine learning algorithms take numbers as inputs. This means that we will need to convert the texts into numerical vectors. There are two steps to this process:\n",
        "\n",
        "1.   Tokenization: Divide the texts into words or smaller sub-texts, which will enable good generalization of relationship between the texts and the labels. This determines the “vocabulary” of the dataset (set of unique tokens present in the data).\n",
        "\n",
        "2.   Vectorization: Define a good numerical measure to characterize these texts.\n",
        "\n",
        "**N-gram vectors**\n",
        "\n",
        "In an n-gram vector, text is represented as a collection of unique n-grams: groups of n adjacent tokens (typically, words). Consider the text The mouse ran up the clock. Here, the word unigrams (n = 1) are ['the', 'mouse', 'ran', 'up', 'clock'], the word bigrams (n = 2) are ['the mouse', 'mouse ran', 'ran up', 'up the', 'the clock'], and so on.\n",
        "\n",
        "With n-gram vector representation, we discard a lot of information about word order and grammar (at best, we can maintain some partial ordering information when n > 1). This is called a bag-of-words approach. This representation is used in conjunction with models that don’t take ordering into account, such as logistic regression, multi-layer perceptrons, gradient boosting machines, support vector machines."
      ],
      "metadata": {
        "id": "Xw81v73GSUVv"
      }
    },
    {
      "cell_type": "code",
      "source": [
        "tokenizer = get_tokenizer('basic_english')\n",
        "\n",
        "def yield_tokens(data_iter):\n",
        "    for _, text in data_iter:\n",
        "        yield tokenizer(text)\n",
        "\n",
        "train_iter = TrecDataset(csv_file='/content/drive/MyDrive/fellowship/trec-data/train_5500.csv')\n",
        "test_iter = TrecDataset(csv_file='/content/drive/MyDrive/fellowship/trec-data/trec_10.csv')\n",
        "vocab = build_vocab_from_iterator(yield_tokens(train_iter), specials=[\"<unk>\"])\n",
        "vocab.set_default_index(vocab[\"<unk>\"])\n",
        "\n",
        "text_pipeline = lambda x: vocab(tokenizer(x))\n",
        "label_pipeline = lambda x: int(x) - 1\n",
        "\n",
        "device = torch.device(\"cuda\" if torch.cuda.is_available() else \"cpu\")\n",
        "\n",
        "def collate_batch(batch):\n",
        "    label_list, text_list, offsets = [], [], [0]\n",
        "    for (_label, _text) in batch:\n",
        "         label_list.append(label_pipeline(_label))\n",
        "         processed_text = torch.tensor(text_pipeline(_text), dtype=torch.int64)\n",
        "         text_list.append(processed_text)\n",
        "         offsets.append(processed_text.size(0))\n",
        "    label_list = torch.tensor(label_list, dtype=torch.int64)\n",
        "    offsets = torch.tensor(offsets[:-1]).cumsum(dim=0)\n",
        "    text_list = torch.cat(text_list)\n",
        "    return label_list.to(device), text_list.to(device), offsets.to(device)\n",
        "\n",
        "dataloader = DataLoader(train_iter, batch_size=8, shuffle=False, collate_fn=collate_batch)\n",
        "test_dataloader = DataLoader(test_iter, batch_size=8, shuffle=False, collate_fn=collate_batch)\n",
        "\n",
        "num_class = len(set([label for (label, text) in train_iter]))\n",
        "vocab_size = len(vocab)\n",
        "emsize = 64\n",
        "model = TextClassificationModel(vocab_size, emsize, num_class).to(device)\n",
        "\n",
        "# Hyperparameters\n",
        "EPOCHS = 10 # epoch\n",
        "# LR = 5\n",
        "LR = 5  # learning rate\n",
        "# BATCH_SIZE = 64\n",
        "BATCH_SIZE = 8 # batch size for training\n",
        "\n",
        "criterion = torch.nn.CrossEntropyLoss()\n",
        "optimizer = torch.optim.SGD(model.parameters(), lr=LR)\n",
        "scheduler = torch.optim.lr_scheduler.StepLR(optimizer, 1.0, gamma=0.1)"
      ],
      "metadata": {
        "id": "w3wta2yf8DIg"
      },
      "execution_count": 17,
      "outputs": []
    },
    {
      "cell_type": "markdown",
      "source": [
        "**Define Python Function to Train the Model**"
      ],
      "metadata": {
        "id": "UtgJTDgoXypR"
      }
    },
    {
      "cell_type": "code",
      "source": [
        "def train(dataloader, epoch):\n",
        "    model.train()\n",
        "    total_acc, total_count = 0, 0\n",
        "    log_interval = 500\n",
        "    start_time = time.time()\n",
        "\n",
        "    for idx, (label, text, offsets) in enumerate(dataloader):\n",
        "        optimizer.zero_grad()\n",
        "        predicted_label = model(text, offsets)\n",
        "        loss = criterion(predicted_label, label)\n",
        "        loss.backward()\n",
        "        torch.nn.utils.clip_grad_norm_(model.parameters(), 0.1)\n",
        "        optimizer.step()\n",
        "        total_acc += (predicted_label.argmax(1) == label).sum().item()\n",
        "        total_count += label.size(0)\n",
        "        if idx % log_interval == 0 and idx > 0:\n",
        "            elapsed = time.time() - start_time\n",
        "            print('| epoch {:3d} | {:5d}/{:5d} batches '\n",
        "                  '| accuracy {:8.3f}'.format(epoch, idx, len(dataloader),\n",
        "                                              total_acc/total_count))\n",
        "            total_acc, total_count = 0, 0\n",
        "            start_time = time.time()"
      ],
      "metadata": {
        "id": "oKsfvNDN8fhR"
      },
      "execution_count": 18,
      "outputs": []
    },
    {
      "cell_type": "markdown",
      "source": [
        "**Define Python Function to Evaluate the Model**"
      ],
      "metadata": {
        "id": "A1IrGzMyX8Bm"
      }
    },
    {
      "cell_type": "code",
      "source": [
        "def evaluate(dataloader):\n",
        "    model.eval()\n",
        "    total_acc, total_count = 0, 0\n",
        "\n",
        "    with torch.no_grad():\n",
        "        for idx, (label, text, offsets) in enumerate(dataloader):\n",
        "            predicted_label = model(text, offsets)\n",
        "            loss = criterion(predicted_label, label)\n",
        "            total_acc += (predicted_label.argmax(1) == label).sum().item()\n",
        "            total_count += label.size(0)\n",
        "    return total_acc/total_count"
      ],
      "metadata": {
        "id": "ukrCZkjH8kDU"
      },
      "execution_count": 19,
      "outputs": []
    },
    {
      "cell_type": "markdown",
      "source": [
        "**Split the Dataset**"
      ],
      "metadata": {
        "id": "YGQO2qRGU2th"
      }
    },
    {
      "cell_type": "code",
      "source": [
        "train_dataset = to_map_style_dataset(train_iter)\n",
        "test_dataset = to_map_style_dataset(test_iter)\n",
        "num_train = int(len(train_dataset) * 0.80)\n",
        "split_train_, split_valid_ = random_split(train_dataset, [num_train, len(train_dataset) - num_train])\n",
        "\n",
        "train_dataloader = DataLoader(split_train_, batch_size=BATCH_SIZE, shuffle=True, collate_fn=collate_batch)\n",
        "valid_dataloader = DataLoader(split_valid_, batch_size=BATCH_SIZE, shuffle=True, collate_fn=collate_batch)\n",
        "test_dataloader = DataLoader(test_dataset, batch_size=BATCH_SIZE, shuffle=True, collate_fn=collate_batch)"
      ],
      "metadata": {
        "id": "xj1uKFDwVALa"
      },
      "execution_count": 20,
      "outputs": []
    },
    {
      "cell_type": "markdown",
      "source": [
        "**Train the Model**"
      ],
      "metadata": {
        "id": "qRwfL6MFVQXX"
      }
    },
    {
      "cell_type": "code",
      "source": [
        "total_accu = None\n",
        "for epoch in range(1, EPOCHS + 1):\n",
        "    epoch_start_time = time.time()\n",
        "    train(train_dataloader, epoch)\n",
        "    accu_val = evaluate(valid_dataloader)\n",
        "    if total_accu is not None and total_accu > accu_val:\n",
        "        scheduler.step()\n",
        "    else:\n",
        "        total_accu = accu_val\n",
        "    print('-' * 59)\n",
        "    print('| end of epoch {:3d} | time: {:5.2f}s | valid accuracy {:8.3f} '.format(epoch, time.time() - epoch_start_time, accu_val))\n",
        "    print('-' * 59)"
      ],
      "metadata": {
        "colab": {
          "base_uri": "https://localhost:8080/"
        },
        "id": "SjaKIc32VT-7",
        "outputId": "0d19610f-656e-4e52-9f44-91a4f13586e6"
      },
      "execution_count": 21,
      "outputs": [
        {
          "output_type": "stream",
          "name": "stdout",
          "text": [
            "| epoch   1 |   500/  546 batches | accuracy    0.583\n",
            "-----------------------------------------------------------\n",
            "| end of epoch   1 | time:  2.32s | valid accuracy    0.702 \n",
            "-----------------------------------------------------------\n",
            "| epoch   2 |   500/  546 batches | accuracy    0.762\n",
            "-----------------------------------------------------------\n",
            "| end of epoch   2 | time:  1.73s | valid accuracy    0.731 \n",
            "-----------------------------------------------------------\n",
            "| epoch   3 |   500/  546 batches | accuracy    0.833\n",
            "-----------------------------------------------------------\n",
            "| end of epoch   3 | time:  0.78s | valid accuracy    0.787 \n",
            "-----------------------------------------------------------\n",
            "| epoch   4 |   500/  546 batches | accuracy    0.886\n",
            "-----------------------------------------------------------\n",
            "| end of epoch   4 | time:  0.76s | valid accuracy    0.789 \n",
            "-----------------------------------------------------------\n",
            "| epoch   5 |   500/  546 batches | accuracy    0.921\n",
            "-----------------------------------------------------------\n",
            "| end of epoch   5 | time:  0.81s | valid accuracy    0.795 \n",
            "-----------------------------------------------------------\n",
            "| epoch   6 |   500/  546 batches | accuracy    0.943\n",
            "-----------------------------------------------------------\n",
            "| end of epoch   6 | time:  0.77s | valid accuracy    0.768 \n",
            "-----------------------------------------------------------\n",
            "| epoch   7 |   500/  546 batches | accuracy    0.971\n",
            "-----------------------------------------------------------\n",
            "| end of epoch   7 | time:  0.75s | valid accuracy    0.837 \n",
            "-----------------------------------------------------------\n",
            "| epoch   8 |   500/  546 batches | accuracy    0.975\n",
            "-----------------------------------------------------------\n",
            "| end of epoch   8 | time:  0.72s | valid accuracy    0.834 \n",
            "-----------------------------------------------------------\n",
            "| epoch   9 |   500/  546 batches | accuracy    0.978\n",
            "-----------------------------------------------------------\n",
            "| end of epoch   9 | time:  0.76s | valid accuracy    0.832 \n",
            "-----------------------------------------------------------\n",
            "| epoch  10 |   500/  546 batches | accuracy    0.978\n",
            "-----------------------------------------------------------\n",
            "| end of epoch  10 | time:  0.74s | valid accuracy    0.832 \n",
            "-----------------------------------------------------------\n"
          ]
        }
      ]
    },
    {
      "cell_type": "markdown",
      "source": [
        "**Evaluate the model on the Test Data Set**"
      ],
      "metadata": {
        "id": "w9BLNuARYbG9"
      }
    },
    {
      "cell_type": "code",
      "source": [
        "print('Checking the results of test dataset.')\n",
        "accu_test = evaluate(test_dataloader)\n",
        "print('test accuracy {:8.3f}'.format(accu_test))"
      ],
      "metadata": {
        "colab": {
          "base_uri": "https://localhost:8080/"
        },
        "id": "Vqvo-fmx9Bfc",
        "outputId": "98fbbf84-89e9-4da8-91a4-9fbcd78314b1"
      },
      "execution_count": 22,
      "outputs": [
        {
          "output_type": "stream",
          "name": "stdout",
          "text": [
            "Checking the results of test dataset.\n",
            "test accuracy    0.860\n"
          ]
        }
      ]
    },
    {
      "cell_type": "markdown",
      "source": [
        "**References**\n",
        "\n",
        "1.    https://developers.google.com/machine-learning/guides/text-classification\n",
        "2.    https://pytorch.org/tutorials/beginner/text_sentiment_ngrams_tutorial.html\n",
        "3.    https://cogcomp.seas.upenn.edu/Data/QA/QC/"
      ],
      "metadata": {
        "id": "2NdkdQRGE-2D"
      }
    }
  ]
}